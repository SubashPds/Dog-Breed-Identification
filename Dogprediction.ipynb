{
 "cells": [
  {
   "cell_type": "code",
   "execution_count": 1,
   "id": "763948b4",
   "metadata": {},
   "outputs": [],
   "source": [
    "# Import necessary libraries\n",
    "from keras.models import Sequential\n",
    "from keras.layers import Conv2D, MaxPooling2D, Flatten, Dense\n",
    "from keras.preprocessing.image import ImageDataGenerator\n",
    "import tensorflow as tf\n",
    "\n"
   ]
  },
  {
   "cell_type": "code",
   "execution_count": 2,
   "id": "d5da2610",
   "metadata": {},
   "outputs": [],
   "source": [
    "# Set batch size and create an ImageDataGenerator object for training data\n",
    "batch_size = 32\n",
    "train_datagen = ImageDataGenerator(rescale=1/255)"
   ]
  },
  {
   "cell_type": "code",
   "execution_count": 3,
   "id": "47bd5b5a",
   "metadata": {},
   "outputs": [
    {
     "name": "stdout",
     "output_type": "stream",
     "text": [
      "Found 1237 images belonging to 4 classes.\n"
     ]
    }
   ],
   "source": [
    "# Define the directory containing training data and specify classes explicitly\n",
    "train_generator = train_datagen.flow_from_directory(\n",
    "        'D:\\\\Rupesh_dai\\\\Dog-Breed-prediction\\\\Test2',\n",
    "        target_size=(100, 100),\n",
    "        batch_size=batch_size,\n",
    "        classes = ['n02110958-pug', 'n02085782-Japanese_spaniel', 'n02112137-chow', 'human'],\n",
    "        class_mode='categorical')"
   ]
  },
  {
   "cell_type": "code",
   "execution_count": 4,
   "id": "8a86a7e0",
   "metadata": {},
   "outputs": [],
   "source": [
    "# Build the CNN architecture\n",
    "model = Sequential([\n",
    "    Conv2D(16, (3, 3), activation='relu', input_shape=(100, 100, 3)),\n",
    "    MaxPooling2D(2, 2),\n",
    "\n",
    "    Conv2D(32, (3, 3), activation='relu'),\n",
    "    MaxPooling2D(2, 2),\n",
    "\n",
    "    Conv2D(64, (3, 3), activation='relu'),\n",
    "    MaxPooling2D(2, 2),\n",
    "\n",
    "    Conv2D(128, (3, 3), activation='relu'),\n",
    "    MaxPooling2D(2, 2),\n",
    "\n",
    "    Conv2D(256, (3, 3), activation='relu'),\n",
    "    MaxPooling2D(2, 2),\n",
    "\n",
    "    Flatten(),\n",
    "    Dense(512, activation='relu'),\n",
    "    Dense(4, activation='softmax')\n",
    "])\n"
   ]
  },
  {
   "cell_type": "code",
   "execution_count": 5,
   "id": "53168f1e",
   "metadata": {},
   "outputs": [],
   "source": [
    "# Compile the model with loss function, optimizer, and metrics\n",
    "from tensorflow.keras.optimizers import RMSprop\n",
    "model.compile(loss='categorical_crossentropy',\n",
    "              optimizer=RMSprop(learning_rate=0.001),\n",
    "              metrics=['acc'])\n"
   ]
  },
  {
   "cell_type": "code",
   "execution_count": 6,
   "id": "fae53593",
   "metadata": {},
   "outputs": [
    {
     "name": "stdout",
     "output_type": "stream",
     "text": [
      "Epoch 1/20\n",
      " 7/38 [====>.........................] - ETA: 18s - loss: 1.4686 - acc: 0.4695"
     ]
    },
    {
     "name": "stderr",
     "output_type": "stream",
     "text": [
      "c:\\Python311\\Lib\\site-packages\\PIL\\Image.py:979: UserWarning: Palette images with Transparency expressed in bytes should be converted to RGBA images\n",
      "  warnings.warn(\n"
     ]
    },
    {
     "name": "stdout",
     "output_type": "stream",
     "text": [
      "38/38 [==============================] - 27s 673ms/step - loss: 1.2797 - acc: 0.5187\n",
      "Epoch 2/20\n",
      "38/38 [==============================] - 19s 499ms/step - loss: 1.1962 - acc: 0.5212\n",
      "Epoch 3/20\n",
      "38/38 [==============================] - 19s 492ms/step - loss: 1.1010 - acc: 0.5427\n",
      "Epoch 4/20\n",
      "38/38 [==============================] - 19s 495ms/step - loss: 0.9786 - acc: 0.6091\n",
      "Epoch 5/20\n",
      "38/38 [==============================] - 19s 503ms/step - loss: 0.8401 - acc: 0.6672\n",
      "Epoch 6/20\n",
      "38/38 [==============================] - 21s 553ms/step - loss: 0.7582 - acc: 0.6998\n",
      "Epoch 7/20\n",
      "38/38 [==============================] - 20s 518ms/step - loss: 0.6827 - acc: 0.7477\n",
      "Epoch 8/20\n",
      "38/38 [==============================] - 19s 513ms/step - loss: 0.6024 - acc: 0.7784\n",
      "Epoch 9/20\n",
      "38/38 [==============================] - 19s 491ms/step - loss: 0.5371 - acc: 0.8091\n",
      "Epoch 10/20\n",
      "38/38 [==============================] - 18s 489ms/step - loss: 0.4371 - acc: 0.8390\n",
      "Epoch 11/20\n",
      "38/38 [==============================] - 19s 488ms/step - loss: 0.3932 - acc: 0.8548\n",
      "Epoch 12/20\n",
      "38/38 [==============================] - 20s 526ms/step - loss: 0.2945 - acc: 0.8896\n",
      "Epoch 13/20\n",
      "38/38 [==============================] - 20s 517ms/step - loss: 0.2955 - acc: 0.8896\n",
      "Epoch 14/20\n",
      "38/38 [==============================] - 20s 533ms/step - loss: 0.1723 - acc: 0.9378\n",
      "Epoch 15/20\n",
      "38/38 [==============================] - 20s 530ms/step - loss: 0.1650 - acc: 0.9402\n",
      "Epoch 16/20\n",
      "38/38 [==============================] - 19s 514ms/step - loss: 0.1872 - acc: 0.9353\n",
      "Epoch 17/20\n",
      "38/38 [==============================] - 20s 526ms/step - loss: 0.0876 - acc: 0.9743\n",
      "Epoch 18/20\n",
      "38/38 [==============================] - 20s 517ms/step - loss: 0.1183 - acc: 0.9685\n",
      "Epoch 19/20\n",
      "38/38 [==============================] - 19s 480ms/step - loss: 0.1331 - acc: 0.9560\n",
      "Epoch 20/20\n",
      "38/38 [==============================] - 18s 485ms/step - loss: 0.1564 - acc: 0.9710\n"
     ]
    }
   ],
   "source": [
    "\n",
    "# Train the model\n",
    "total_sample = train_generator.n\n",
    "n_epochs = 20\n",
    "history = model.fit(\n",
    "    train_generator,\n",
    "    steps_per_epoch=int(total_sample/batch_size),\n",
    "    epochs=n_epochs,\n",
    "    verbose=1)\n"
   ]
  },
  {
   "cell_type": "code",
   "execution_count": 7,
   "id": "1c3ef8c0",
   "metadata": {},
   "outputs": [],
   "source": [
    "# Save the trained model\n",
    "model.save('model4.h5')\n"
   ]
  },
  {
   "cell_type": "code",
   "execution_count": 8,
   "id": "3856cefc",
   "metadata": {},
   "outputs": [],
   "source": [
    "\n",
    "# Test the model on a new image\n",
    "import numpy as np\n",
    "import matplotlib.pyplot as plt\n",
    "from PIL import Image\n",
    "from keras.models import load_model\n"
   ]
  },
  {
   "cell_type": "code",
   "execution_count": 9,
   "id": "b1e6536b",
   "metadata": {},
   "outputs": [],
   "source": [
    "\n",
    "# Load the saved model\n",
    "model = load_model('model4.h5')\n"
   ]
  },
  {
   "cell_type": "code",
   "execution_count": 10,
   "id": "ca8d6f4a",
   "metadata": {},
   "outputs": [
    {
     "data": {
      "image/png": "[encoded data removed]",
      "text/plain": [
       "<Figure size 640x480 with 1 Axes>"
      ]
     },
     "metadata": {},
     "output_type": "display_data"
    }
   ],
   "source": [
    "\n",
    "# Load the test image and preprocess it\n",
    "test_image = Image.open('D:\\\\Rupesh_dai\\\\Dog-Breed-prediction\\\\download (3).jpeg')\n",
    "\n",
    "test_image = test_image.resize((100, 100))\n",
    "imageplot = plt.imshow(test_image)\n",
    "\n",
    "x = np.array(test_image)\n",
    "x = np.expand_dims(x, axis=0)\n",
    "images = np.vstack([x])\n"
   ]
  },
  {
   "cell_type": "code",
   "execution_count": 11,
   "id": "2e275854",
   "metadata": {},
   "outputs": [
    {
     "name": "stdout",
     "output_type": "stream",
     "text": [
      "1/1 [==============================] - 0s 130ms/step\n",
      "This is a Japanese spaniel\n"
     ]
    }
   ],
   "source": [
    "\n",
    "# Make a prediction on the test image and print the predicted class\n",
    "result = model.predict(images, batch_size=10)\n",
    "\n",
    "if result[0][0] == 1:\n",
    "    print(\"This is a Pug\")\n",
    "elif result[0][1] == 1:\n",
    "    print(\"This is a Japanese spaniel\")\n",
    "elif result[0][2] == 1:\n",
    "    print(\"This is a Chow\")\n",
    "elif result[0][3] == 1:\n",
    "    print(\"This is human\")\n",
    "else:\n",
    "    print(\"Sorry\")\n"
   ]
  },
  {
   "cell_type": "code",
   "execution_count": 12,
   "id": "f4169378",
   "metadata": {},
   "outputs": [
    {
     "name": "stdout",
     "output_type": "stream",
     "text": [
      "1/1 [==============================] - 0s 103ms/step\n",
      "This is a Japanese spaniel\n"
     ]
    }
   ],
   "source": [
    "import numpy as np\n",
    "import matplotlib.pyplot as plt\n",
    "from PIL import Image\n",
    "from keras.models import load_model\n",
    "\n",
    "model = load_model('model4.h5')\n",
    "\n",
    "test_image = Image.open('D:\\\\Rupesh_dai\\\\Dog-Breed-prediction\\\\download (3).jpeg')\n",
    "\n",
    "test_image = test_image.resize((100, 100))\n",
    "# imageplot = plt.imshow(test_image)\n",
    "\n",
    "x = np.array(test_image)\n",
    "x = np.expand_dims(x, axis=0)\n",
    "images = np.vstack([x])\n",
    "\n",
    "result = model.predict(images, batch_size=10)\n",
    "\n",
    "if result[0][0] == 1:\n",
    "    print(\"This is a Pug\")\n",
    "elif result[0][1] == 1:\n",
    "    print(\"This is a Japanese spaniel\")\n",
    "elif result[0][2] == 1:\n",
    "    print(\"This is a Chow\")\n",
    "elif result[0][3] == 1:\n",
    "    print(\"This is human\")\n",
    "else:\n",
    "    print(\"Sorry\")"
   ]
  },
  {
   "cell_type": "code",
   "execution_count": 13,
   "id": "e65516d3",
   "metadata": {},
   "outputs": [
    {
     "name": "stdout",
     "output_type": "stream",
     "text": [
      "Downloading data from https://storage.googleapis.com/tensorflow/keras-applications/vgg16/vgg16_weights_tf_dim_ordering_tf_kernels_notop.h5\n",
      "58889256/58889256 [==============================] - 9s 0us/step\n"
     ]
    },
    {
     "ename": "FileNotFoundError",
     "evalue": "[WinError 3] The system cannot find the path specified: 'D:\\\\Rupesh_dai\\\\Dog-Breed-prediction\\\\Train'",
     "output_type": "error",
     "traceback": [
      "\u001b[1;31m---------------------------------------------------------------------------\u001b[0m",
      "\u001b[1;31mFileNotFoundError\u001b[0m                         Traceback (most recent call last)",
      "\u001b[1;32md:\\Rupesh_dai\\Laravel-8-Blog-Tutorial-up-to-Deployment\\Dogprediction.ipynb Cell 13\u001b[0m in \u001b[0;36m3\n\u001b[0;32m     <a href='vscode-notebook-cell:/d%3A/Rupesh_dai/Laravel-8-Blog-Tutorial-up-to-Deployment/Dogprediction.ipynb#X15sZmlsZQ%3D%3D?line=27'>28</a>\u001b[0m train_datagen \u001b[39m=\u001b[39m ImageDataGenerator(rescale\u001b[39m=\u001b[39m\u001b[39m1\u001b[39m\u001b[39m/\u001b[39m\u001b[39m255\u001b[39m, \n\u001b[0;32m     <a href='vscode-notebook-cell:/d%3A/Rupesh_dai/Laravel-8-Blog-Tutorial-up-to-Deployment/Dogprediction.ipynb#X15sZmlsZQ%3D%3D?line=28'>29</a>\u001b[0m                                    shear_range\u001b[39m=\u001b[39m\u001b[39m0.2\u001b[39m,\n\u001b[0;32m     <a href='vscode-notebook-cell:/d%3A/Rupesh_dai/Laravel-8-Blog-Tutorial-up-to-Deployment/Dogprediction.ipynb#X15sZmlsZQ%3D%3D?line=29'>30</a>\u001b[0m                                    zoom_range\u001b[39m=\u001b[39m\u001b[39m0.2\u001b[39m,\n\u001b[0;32m     <a href='vscode-notebook-cell:/d%3A/Rupesh_dai/Laravel-8-Blog-Tutorial-up-to-Deployment/Dogprediction.ipynb#X15sZmlsZQ%3D%3D?line=30'>31</a>\u001b[0m                                    horizontal_flip\u001b[39m=\u001b[39m\u001b[39mTrue\u001b[39;00m)\n\u001b[0;32m     <a href='vscode-notebook-cell:/d%3A/Rupesh_dai/Laravel-8-Blog-Tutorial-up-to-Deployment/Dogprediction.ipynb#X15sZmlsZQ%3D%3D?line=31'>32</a>\u001b[0m test_datagen \u001b[39m=\u001b[39m ImageDataGenerator(rescale\u001b[39m=\u001b[39m\u001b[39m1\u001b[39m\u001b[39m/\u001b[39m\u001b[39m255\u001b[39m)\n\u001b[1;32m---> <a href='vscode-notebook-cell:/d%3A/Rupesh_dai/Laravel-8-Blog-Tutorial-up-to-Deployment/Dogprediction.ipynb#X15sZmlsZQ%3D%3D?line=33'>34</a>\u001b[0m train_generator \u001b[39m=\u001b[39m train_datagen\u001b[39m.\u001b[39;49mflow_from_directory(\n\u001b[0;32m     <a href='vscode-notebook-cell:/d%3A/Rupesh_dai/Laravel-8-Blog-Tutorial-up-to-Deployment/Dogprediction.ipynb#X15sZmlsZQ%3D%3D?line=34'>35</a>\u001b[0m         \u001b[39m'\u001b[39;49m\u001b[39mD:\u001b[39;49m\u001b[39m\\\\\u001b[39;49;00m\u001b[39mRupesh_dai\u001b[39;49m\u001b[39m\\\\\u001b[39;49;00m\u001b[39mDog-Breed-prediction\u001b[39;49m\u001b[39m\\\\\u001b[39;49;00m\u001b[39mTrain\u001b[39;49m\u001b[39m'\u001b[39;49m,\n\u001b[0;32m     <a href='vscode-notebook-cell:/d%3A/Rupesh_dai/Laravel-8-Blog-Tutorial-up-to-Deployment/Dogprediction.ipynb#X15sZmlsZQ%3D%3D?line=35'>36</a>\u001b[0m         target_size\u001b[39m=\u001b[39;49m(\u001b[39m224\u001b[39;49m, \u001b[39m224\u001b[39;49m),\n\u001b[0;32m     <a href='vscode-notebook-cell:/d%3A/Rupesh_dai/Laravel-8-Blog-Tutorial-up-to-Deployment/Dogprediction.ipynb#X15sZmlsZQ%3D%3D?line=36'>37</a>\u001b[0m         batch_size\u001b[39m=\u001b[39;49m\u001b[39m32\u001b[39;49m,\n\u001b[0;32m     <a href='vscode-notebook-cell:/d%3A/Rupesh_dai/Laravel-8-Blog-Tutorial-up-to-Deployment/Dogprediction.ipynb#X15sZmlsZQ%3D%3D?line=37'>38</a>\u001b[0m         class_mode\u001b[39m=\u001b[39;49m\u001b[39m'\u001b[39;49m\u001b[39mcategorical\u001b[39;49m\u001b[39m'\u001b[39;49m)\n\u001b[0;32m     <a href='vscode-notebook-cell:/d%3A/Rupesh_dai/Laravel-8-Blog-Tutorial-up-to-Deployment/Dogprediction.ipynb#X15sZmlsZQ%3D%3D?line=39'>40</a>\u001b[0m validation_generator \u001b[39m=\u001b[39m test_datagen\u001b[39m.\u001b[39mflow_from_directory(\n\u001b[0;32m     <a href='vscode-notebook-cell:/d%3A/Rupesh_dai/Laravel-8-Blog-Tutorial-up-to-Deployment/Dogprediction.ipynb#X15sZmlsZQ%3D%3D?line=40'>41</a>\u001b[0m         \u001b[39m'\u001b[39m\u001b[39mD:\u001b[39m\u001b[39m\\\\\u001b[39;00m\u001b[39mRupesh_dai\u001b[39m\u001b[39m\\\\\u001b[39;00m\u001b[39mDog-Breed-prediction\u001b[39m\u001b[39m\\\\\u001b[39;00m\u001b[39mValidation\u001b[39m\u001b[39m'\u001b[39m,\n\u001b[0;32m     <a href='vscode-notebook-cell:/d%3A/Rupesh_dai/Laravel-8-Blog-Tutorial-up-to-Deployment/Dogprediction.ipynb#X15sZmlsZQ%3D%3D?line=41'>42</a>\u001b[0m         target_size\u001b[39m=\u001b[39m(\u001b[39m224\u001b[39m, \u001b[39m224\u001b[39m),\n\u001b[0;32m     <a href='vscode-notebook-cell:/d%3A/Rupesh_dai/Laravel-8-Blog-Tutorial-up-to-Deployment/Dogprediction.ipynb#X15sZmlsZQ%3D%3D?line=42'>43</a>\u001b[0m         batch_size\u001b[39m=\u001b[39m\u001b[39m32\u001b[39m,\n\u001b[0;32m     <a href='vscode-notebook-cell:/d%3A/Rupesh_dai/Laravel-8-Blog-Tutorial-up-to-Deployment/Dogprediction.ipynb#X15sZmlsZQ%3D%3D?line=43'>44</a>\u001b[0m         class_mode\u001b[39m=\u001b[39m\u001b[39m'\u001b[39m\u001b[39mcategorical\u001b[39m\u001b[39m'\u001b[39m)\n\u001b[0;32m     <a href='vscode-notebook-cell:/d%3A/Rupesh_dai/Laravel-8-Blog-Tutorial-up-to-Deployment/Dogprediction.ipynb#X15sZmlsZQ%3D%3D?line=45'>46</a>\u001b[0m \u001b[39m# Train the model\u001b[39;00m\n",
      "File \u001b[1;32mc:\\Python311\\Lib\\site-packages\\keras\\preprocessing\\image.py:1648\u001b[0m, in \u001b[0;36mImageDataGenerator.flow_from_directory\u001b[1;34m(self, directory, target_size, color_mode, classes, class_mode, batch_size, shuffle, seed, save_to_dir, save_prefix, save_format, follow_links, subset, interpolation, keep_aspect_ratio)\u001b[0m\n\u001b[0;32m   1562\u001b[0m \u001b[39mdef\u001b[39;00m \u001b[39mflow_from_directory\u001b[39m(\n\u001b[0;32m   1563\u001b[0m     \u001b[39mself\u001b[39m,\n\u001b[0;32m   1564\u001b[0m     directory,\n\u001b[1;32m   (...)\u001b[0m\n\u001b[0;32m   1578\u001b[0m     keep_aspect_ratio\u001b[39m=\u001b[39m\u001b[39mFalse\u001b[39;00m,\n\u001b[0;32m   1579\u001b[0m ):\n\u001b[0;32m   1580\u001b[0m \u001b[39m    \u001b[39m\u001b[39m\"\"\"Takes the path to a directory & generates batches of augmented data.\u001b[39;00m\n\u001b[0;32m   1581\u001b[0m \n\u001b[0;32m   1582\u001b[0m \u001b[39m    Args:\u001b[39;00m\n\u001b[1;32m   (...)\u001b[0m\n\u001b[0;32m   1646\u001b[0m \u001b[39m            and `y` is a numpy array of corresponding labels.\u001b[39;00m\n\u001b[0;32m   1647\u001b[0m \u001b[39m    \"\"\"\u001b[39;00m\n\u001b[1;32m-> 1648\u001b[0m     \u001b[39mreturn\u001b[39;00m DirectoryIterator(\n\u001b[0;32m   1649\u001b[0m         directory,\n\u001b[0;32m   1650\u001b[0m         \u001b[39mself\u001b[39;49m,\n\u001b[0;32m   1651\u001b[0m         target_size\u001b[39m=\u001b[39;49mtarget_size,\n\u001b[0;32m   1652\u001b[0m         color_mode\u001b[39m=\u001b[39;49mcolor_mode,\n\u001b[0;32m   1653\u001b[0m         keep_aspect_ratio\u001b[39m=\u001b[39;49mkeep_aspect_ratio,\n\u001b[0;32m   1654\u001b[0m         classes\u001b[39m=\u001b[39;49mclasses,\n\u001b[0;32m   1655\u001b[0m         class_mode\u001b[39m=\u001b[39;49mclass_mode,\n\u001b[0;32m   1656\u001b[0m         data_format\u001b[39m=\u001b[39;49m\u001b[39mself\u001b[39;49m\u001b[39m.\u001b[39;49mdata_format,\n\u001b[0;32m   1657\u001b[0m         batch_size\u001b[39m=\u001b[39;49mbatch_size,\n\u001b[0;32m   1658\u001b[0m         shuffle\u001b[39m=\u001b[39;49mshuffle,\n\u001b[0;32m   1659\u001b[0m         seed\u001b[39m=\u001b[39;49mseed,\n\u001b[0;32m   1660\u001b[0m         save_to_dir\u001b[39m=\u001b[39;49msave_to_dir,\n\u001b[0;32m   1661\u001b[0m         save_prefix\u001b[39m=\u001b[39;49msave_prefix,\n\u001b[0;32m   1662\u001b[0m         save_format\u001b[39m=\u001b[39;49msave_format,\n\u001b[0;32m   1663\u001b[0m         follow_links\u001b[39m=\u001b[39;49mfollow_links,\n\u001b[0;32m   1664\u001b[0m         subset\u001b[39m=\u001b[39;49msubset,\n\u001b[0;32m   1665\u001b[0m         interpolation\u001b[39m=\u001b[39;49minterpolation,\n\u001b[0;32m   1666\u001b[0m         dtype\u001b[39m=\u001b[39;49m\u001b[39mself\u001b[39;49m\u001b[39m.\u001b[39;49mdtype,\n\u001b[0;32m   1667\u001b[0m     )\n",
      "File \u001b[1;32mc:\\Python311\\Lib\\site-packages\\keras\\preprocessing\\image.py:563\u001b[0m, in \u001b[0;36mDirectoryIterator.__init__\u001b[1;34m(self, directory, image_data_generator, target_size, color_mode, classes, class_mode, batch_size, shuffle, seed, data_format, save_to_dir, save_prefix, save_format, follow_links, subset, interpolation, keep_aspect_ratio, dtype)\u001b[0m\n\u001b[0;32m    561\u001b[0m \u001b[39mif\u001b[39;00m \u001b[39mnot\u001b[39;00m classes:\n\u001b[0;32m    562\u001b[0m     classes \u001b[39m=\u001b[39m []\n\u001b[1;32m--> 563\u001b[0m     \u001b[39mfor\u001b[39;00m subdir \u001b[39min\u001b[39;00m \u001b[39msorted\u001b[39m(os\u001b[39m.\u001b[39mlistdir(directory)):\n\u001b[0;32m    564\u001b[0m         \u001b[39mif\u001b[39;00m os\u001b[39m.\u001b[39mpath\u001b[39m.\u001b[39misdir(os\u001b[39m.\u001b[39mpath\u001b[39m.\u001b[39mjoin(directory, subdir)):\n\u001b[0;32m    565\u001b[0m             classes\u001b[39m.\u001b[39mappend(subdir)\n",
      "\u001b[1;31mFileNotFoundError\u001b[0m: [WinError 3] The system cannot find the path specified: 'D:\\\\Rupesh_dai\\\\Dog-Breed-prediction\\\\Train'"
     ]
    }
   ],
   "source": [
    "# Import necessary libraries\n",
    "from tensorflow.keras.applications.vgg16 import VGG16\n",
    "from tensorflow.keras.layers import Dense, Flatten\n",
    "from tensorflow.keras.models import Model\n",
    "from tensorflow.keras.preprocessing.image import ImageDataGenerator\n",
    "\n",
    "# Load the VGG16 model pre-trained on ImageNet\n",
    "base_model = VGG16(weights='imagenet', include_top=False, input_shape=(224, 224, 3))\n",
    "\n",
    "# Freeze the pre-trained layers\n",
    "for layer in base_model.layers:\n",
    "    layer.trainable = False\n",
    "\n",
    "# Add custom layers on top of the pre-trained model\n",
    "x = Flatten()(base_model.output)\n",
    "x = Dense(256, activation='relu')(x)\n",
    "x = Dense(4, activation='softmax')(x)\n",
    "\n",
    "# Create the new model\n",
    "model = Model(inputs=base_model.input, outputs=x)\n",
    "\n",
    "# Compile the model\n",
    "model.compile(loss='categorical_crossentropy',\n",
    "              optimizer='adam',\n",
    "              metrics=['accuracy'])\n",
    "\n",
    "# Define the data generators\n",
    "train_datagen = ImageDataGenerator(rescale=1/255, \n",
    "                                   shear_range=0.2,\n",
    "                                   zoom_range=0.2,\n",
    "                                   horizontal_flip=True)\n",
    "test_datagen = ImageDataGenerator(rescale=1/255)\n",
    "\n",
    "train_generator = train_datagen.flow_from_directory(\n",
    "        'D:\\\\Rupesh_dai\\\\Dog-Breed-prediction\\\\Train',\n",
    "        target_size=(224, 224),\n",
    "        batch_size=32,\n",
    "        class_mode='categorical')\n",
    "\n",
    "validation_generator = test_datagen.flow_from_directory(\n",
    "        'D:\\\\Rupesh_dai\\\\Dog-Breed-prediction\\\\Validation',\n",
    "        target_size=(224, 224),\n",
    "        batch_size=32,\n",
    "        class_mode='categorical')\n",
    "\n",
    "# Train the model\n",
    "history = model.fit(\n",
    "        train_generator,\n",
    "        steps_per_epoch=train_generator.n//train_generator.batch_size,\n",
    "        epochs=10,\n",
    "        validation_data=validation_generator,\n",
    "        validation_steps=validation_generator.n//validation_generator.batch_size)\n",
    "\n",
    "# Save the model\n",
    "model.save('model_transfer_learning.h5')\n"
   ]
  }
 ],
 "metadata": {
  "kernelspec": {
   "display_name": "Python 3 (ipykernel)",
   "language": "python",
   "name": "python3"
  },
  "language_info": {
   "codemirror_mode": {
    "name": "ipython",
    "version": 3
   },
   "file_extension": ".py",
   "mimetype": "text/x-python",
   "name": "python",
   "nbconvert_exporter": "python",
   "pygments_lexer": "ipython3",
   "version": "3.11.0"
  }
 },
 "nbformat": 4,
 "nbformat_minor": 5
}
