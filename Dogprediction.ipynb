{
 "cells": [
  {
   "cell_type": "code",
   "execution_count": 29,
   "id": "763948b4",
   "metadata": {},
   "outputs": [],
   "source": [
    "# Import necessary libraries\n",
    "from keras.models import Sequential\n",
    "from keras.layers import Conv2D, MaxPooling2D, Flatten, Dense\n",
    "from keras.preprocessing.image import ImageDataGenerator\n",
    "import tensorflow as tf\n",
    "\n"
   ]
  },
  {
   "cell_type": "code",
   "execution_count": 30,
   "id": "d5da2610",
   "metadata": {},
   "outputs": [],
   "source": [
    "# Set batch size and create an ImageDataGenerator object for training data\n",
    "batch_size = 32\n",
    "train_datagen = ImageDataGenerator(rescale=1/255)"
   ]
  },
  {
   "cell_type": "code",
   "execution_count": 31,
   "id": "47bd5b5a",
   "metadata": {},
   "outputs": [
    {
     "name": "stdout",
     "output_type": "stream",
     "text": [
      "Found 581 images belonging to 4 classes.\n"
     ]
    }
   ],
   "source": [
    "# Define the directory containing training data and specify classes explicitly\n",
    "train_generator = train_datagen.flow_from_directory(\n",
    "    '/home/rupesh/Desktop/Dog/Dog-Breed-Identification/Test2',\n",
    "        target_size=(100, 100),\n",
    "        batch_size=batch_size,\n",
    "        classes = ['n02110958-pug', 'n02085782-Japanese_spaniel', 'n02112137-chow','human'],\n",
    "        class_mode='categorical')"
   ]
  },
  {
   "cell_type": "code",
   "execution_count": 32,
   "id": "8a86a7e0",
   "metadata": {},
   "outputs": [],
   "source": [
    "# Build the CNN architecture\n",
    "model = Sequential([\n",
    "    Conv2D(16, (3, 3), activation='relu', input_shape=(100, 100, 3)),\n",
    "    MaxPooling2D(2, 2),\n",
    "\n",
    "    Conv2D(32, (3, 3), activation='relu'),\n",
    "    MaxPooling2D(2, 2),\n",
    "\n",
    "    Conv2D(64, (3, 3), activation='relu'),\n",
    "    MaxPooling2D(2, 2),\n",
    "\n",
    "    Conv2D(128, (3, 3), activation='relu'),\n",
    "    MaxPooling2D(2, 2),\n",
    "\n",
    "    Conv2D(256, (3, 3), activation='relu'),\n",
    "    MaxPooling2D(2, 2),\n",
    "\n",
    "    Flatten(),\n",
    "    Dense(512, activation='relu'),\n",
    "    Dense(4, activation='softmax')\n",
    "])\n"
   ]
  },
  {
   "cell_type": "code",
   "execution_count": 33,
   "id": "53168f1e",
   "metadata": {},
   "outputs": [],
   "source": [
    "# Compile the model with loss function, optimizer, and metrics\n",
    "from tensorflow.keras.optimizers import RMSprop\n",
    "model.compile(loss='categorical_crossentropy',\n",
    "              optimizer=RMSprop(learning_rate=0.001),\n",
    "              metrics=['acc'])\n"
   ]
  },
  {
   "cell_type": "code",
   "execution_count": 34,
   "id": "fae53593",
   "metadata": {},
   "outputs": [
    {
     "name": "stdout",
     "output_type": "stream",
     "text": [
      "Epoch 1/20\n"
     ]
    },
    {
     "name": "stderr",
     "output_type": "stream",
     "text": [
      "2023-04-29 17:09:09.820003: I tensorflow/core/common_runtime/executor.cc:1197] [/device:CPU:0] (DEBUG INFO) Executor start aborting (this does not indicate an error and you can ignore this message): INVALID_ARGUMENT: You must feed a value for placeholder tensor 'Placeholder/_0' with dtype int32\n",
      "\t [[{{node Placeholder/_0}}]]\n"
     ]
    },
    {
     "name": "stdout",
     "output_type": "stream",
     "text": [
      "18/18 [==============================] - 3s 157ms/step - loss: 1.2061 - acc: 0.3461\n",
      "Epoch 2/20\n",
      "18/18 [==============================] - 3s 156ms/step - loss: 1.1142 - acc: 0.3716\n",
      "Epoch 3/20\n",
      "18/18 [==============================] - 3s 158ms/step - loss: 1.0895 - acc: 0.4135\n",
      "Epoch 4/20\n",
      "18/18 [==============================] - 3s 166ms/step - loss: 1.0491 - acc: 0.4809\n",
      "Epoch 5/20\n",
      "18/18 [==============================] - 3s 167ms/step - loss: 0.9576 - acc: 0.6047\n",
      "Epoch 6/20\n",
      "18/18 [==============================] - 3s 159ms/step - loss: 0.8936 - acc: 0.6047\n",
      "Epoch 7/20\n",
      "18/18 [==============================] - 3s 150ms/step - loss: 0.8333 - acc: 0.6248\n",
      "Epoch 8/20\n",
      "18/18 [==============================] - 3s 155ms/step - loss: 0.8040 - acc: 0.6721\n",
      "Epoch 9/20\n",
      "18/18 [==============================] - 3s 156ms/step - loss: 0.6669 - acc: 0.7341\n",
      "Epoch 10/20\n",
      "18/18 [==============================] - 3s 177ms/step - loss: 0.6917 - acc: 0.7086\n",
      "Epoch 11/20\n",
      "18/18 [==============================] - 3s 159ms/step - loss: 0.6700 - acc: 0.7104\n",
      "Epoch 12/20\n",
      "18/18 [==============================] - 3s 156ms/step - loss: 0.5892 - acc: 0.7687\n",
      "Epoch 13/20\n",
      "18/18 [==============================] - 3s 158ms/step - loss: 0.6750 - acc: 0.7450\n",
      "Epoch 14/20\n",
      "18/18 [==============================] - 3s 159ms/step - loss: 0.4664 - acc: 0.8197\n",
      "Epoch 15/20\n",
      "18/18 [==============================] - 3s 160ms/step - loss: 0.5226 - acc: 0.8069\n",
      "Epoch 16/20\n",
      "18/18 [==============================] - 3s 154ms/step - loss: 0.5103 - acc: 0.8197\n",
      "Epoch 17/20\n",
      "18/18 [==============================] - 3s 157ms/step - loss: 0.3795 - acc: 0.8652\n",
      "Epoch 18/20\n",
      "18/18 [==============================] - 3s 152ms/step - loss: 0.4082 - acc: 0.8397\n",
      "Epoch 19/20\n",
      "18/18 [==============================] - 3s 162ms/step - loss: 0.3325 - acc: 0.8646\n",
      "Epoch 20/20\n",
      "18/18 [==============================] - 3s 163ms/step - loss: 0.2922 - acc: 0.8819\n"
     ]
    }
   ],
   "source": [
    "\n",
    "# Train the model\n",
    "total_sample = train_generator.n\n",
    "n_epochs = 20\n",
    "history = model.fit(\n",
    "    train_generator,\n",
    "    steps_per_epoch=int(total_sample/batch_size),\n",
    "    epochs=n_epochs,\n",
    "    verbose=1)\n"
   ]
  },
  {
   "cell_type": "code",
   "execution_count": 35,
   "id": "1c3ef8c0",
   "metadata": {},
   "outputs": [],
   "source": [
    "# Save the trained model\n",
    "model.save('model4.h5')\n"
   ]
  },
  {
   "cell_type": "code",
   "execution_count": 36,
   "id": "3856cefc",
   "metadata": {},
   "outputs": [],
   "source": [
    "\n",
    "# Test the model on a new image\n",
    "import numpy as np\n",
    "import matplotlib.pyplot as plt\n",
    "from PIL import Image\n",
    "from keras.models import load_model\n"
   ]
  },
  {
   "cell_type": "code",
   "execution_count": 37,
   "id": "b1e6536b",
   "metadata": {},
   "outputs": [],
   "source": [
    "\n",
    "# Load the saved model\n",
    "model = load_model('model4.h5')\n"
   ]
  },
  {
   "cell_type": "code",
   "execution_count": 38,
   "id": "ca8d6f4a",
   "metadata": {},
   "outputs": [
    {
     "data": {
      "image/png": "[encoded data removed]",
      "text/plain": [
       "<Figure size 640x480 with 1 Axes>"
      ]
     },
     "metadata": {},
     "output_type": "display_data"
    }
   ],
   "source": [
    "\n",
    "# Load the test image and preprocess it\n",
    "test_image = Image.open(\n",
    "    '/home/rupesh/Desktop/Dog/Dog-Breed-Identification/Test2/n02085782-Japanese_spaniel/n02085782_2.jpg')\n",
    "\n",
    "test_image = test_image.resize((100, 100))\n",
    "imageplot = plt.imshow(test_image)\n",
    "\n",
    "x = np.array(test_image)\n",
    "x = np.expand_dims(x, axis=0)\n",
    "images = np.vstack([x])\n"
   ]
  },
  {
   "cell_type": "code",
   "execution_count": 39,
   "id": "2e275854",
   "metadata": {},
   "outputs": [
    {
     "name": "stdout",
     "output_type": "stream",
     "text": [
      "1/1 [==============================] - 0s 77ms/step\n",
      "This is a Japanese spaniel\n"
     ]
    }
   ],
   "source": [
    "\n",
    "# Make a prediction on the test image and print the predicted class\n",
    "result = model.predict(images, batch_size=10)\n",
    "\n",
    "if result[0][0] == 1:\n",
    "    print(\"This is a Pug\")\n",
    "elif result[0][1] == 1:\n",
    "    print(\"This is a Japanese spaniel\")\n",
    "elif result[0][2] == 1:\n",
    "    print(\"This is a Chow\")\n",
    "elif result[0][3] == 1:\n",
    "    print(\"This is human\")\n",
    "else:\n",
    "    print(\"Sorry\")\n"
   ]
  },
  {
   "cell_type": "code",
   "execution_count": 40,
   "id": "f4169378",
   "metadata": {},
   "outputs": [
    {
     "name": "stdout",
     "output_type": "stream",
     "text": [
      "1/1 [==============================] - 0s 72ms/step\n",
      "This is a Japanese spaniel\n"
     ]
    }
   ],
   "source": [
    "import numpy as np\n",
    "import matplotlib.pyplot as plt\n",
    "from PIL import Image\n",
    "from keras.models import load_model\n",
    "\n",
    "model = load_model('model4.h5')\n",
    "\n",
    "test_image = Image.open(\n",
    "    '/home/rupesh/Desktop/Dog/Dog-Breed-Identification/Test2/n02085782-Japanese_spaniel/n02085782_2.jpg')\n",
    "\n",
    "test_image = test_image.resize((100, 100))\n",
    "# imageplot = plt.imshow(test_image)\n",
    "\n",
    "x = np.array(test_image)\n",
    "x = np.expand_dims(x, axis=0)\n",
    "images = np.vstack([x])\n",
    "\n",
    "result = model.predict(images, batch_size=10)\n",
    "\n",
    "if result[0][0] == 1:\n",
    "    print(\"This is a Pug\")\n",
    "elif result[0][1] == 1:\n",
    "    print(\"This is a Japanese spaniel\")\n",
    "elif result[0][2] == 1:\n",
    "    print(\"This is a Chow\")\n",
    "elif result[0][3] == 1:\n",
    "    print(\"This is human\")\n",
    "else:\n",
    "    print(\"Sorry\")"
   ]
  }
 ],
 "metadata": {
  "kernelspec": {
   "display_name": "Python 3 (ipykernel)",
   "language": "python",
   "name": "python3"
  },
  "language_info": {
   "codemirror_mode": {
    "name": "ipython",
    "version": 3
   },
   "file_extension": ".py",
   "mimetype": "text/x-python",
   "name": "python",
   "nbconvert_exporter": "python",
   "pygments_lexer": "ipython3",
   "version": "3.10.6"
  }
 },
 "nbformat": 4,
 "nbformat_minor": 5
}
